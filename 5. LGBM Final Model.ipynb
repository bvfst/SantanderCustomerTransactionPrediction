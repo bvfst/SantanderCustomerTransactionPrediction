{
  "cells": [
    {
      "cell_type": "code",
      "source": [
        "from google.colab import drive\n",
        "drive.mount('/content/drive')"
      ],
      "metadata": {
        "colab": {
          "base_uri": "https://localhost:8080/"
        },
        "id": "zKoS78CMJNaU",
        "outputId": "87a05427-f957-48a0-e641-7b146a28dbc9"
      },
      "id": "zKoS78CMJNaU",
      "execution_count": 2,
      "outputs": [
        {
          "output_type": "stream",
          "name": "stdout",
          "text": [
            "Mounted at /content/drive\n"
          ]
        }
      ]
    },
    {
      "cell_type": "code",
      "execution_count": 3,
      "id": "22d8dc97",
      "metadata": {
        "id": "22d8dc97"
      },
      "outputs": [],
      "source": [
        "#Importing libraries\n",
        "import numpy as np\n",
        "import pandas as pd\n",
        "import lightgbm as lgb\n",
        "from sklearn.metrics import roc_auc_score\n",
        "from sklearn.model_selection import StratifiedKFold\n",
        "import warnings"
      ]
    },
    {
      "cell_type": "code",
      "source": [
        "warnings.simplefilter(action='ignore', category=FutureWarning)\n",
        "warnings.filterwarnings('ignore')"
      ],
      "metadata": {
        "id": "zB2nEpl-EXt7"
      },
      "id": "zB2nEpl-EXt7",
      "execution_count": 4,
      "outputs": []
    },
    {
      "cell_type": "code",
      "source": [
        "path = \"/content/drive/MyDrive/Pred Project/\"\n",
        "# path = \"\""
      ],
      "metadata": {
        "id": "xXNPFOJ9JdYf"
      },
      "id": "xXNPFOJ9JdYf",
      "execution_count": 5,
      "outputs": []
    },
    {
      "cell_type": "code",
      "execution_count": 6,
      "id": "cb0128b3",
      "metadata": {
        "id": "cb0128b3"
      },
      "outputs": [],
      "source": [
        "#Reading in the train and test files\n",
        "df_train = pd.read_csv(path + \"train.csv\")\n",
        "df_test = pd.read_csv(path + \"test.csv\")"
      ]
    },
    {
      "cell_type": "code",
      "execution_count": 7,
      "id": "6ca14c7d",
      "metadata": {
        "id": "6ca14c7d"
      },
      "outputs": [],
      "source": [
        "df_train.drop([\"ID_code\"], axis = 1, inplace=True)"
      ]
    },
    {
      "cell_type": "code",
      "source": [
        "# Identifying the synthetic data from the test data\n",
        "test = df_test.drop([\"ID_code\"], axis = 1)\n",
        "unique_count = np.zeros_like(test)\n",
        "for feature in range(test.shape[1]):\n",
        "    _, index, count = np.unique(test.iloc[:, feature], return_counts=True, \n",
        "                                return_index=True)\n",
        "    unique_count[index[count == 1], feature] += 1\n",
        "real_samples = np.argwhere(np.sum(unique_count, axis=1) > 0)[:, 0]\n",
        "synth_samples = np.argwhere(np.sum(unique_count, axis=1) == 0)[:, 0]\n",
        "print(\"Number of real samples in test set is \" + str(len(real_samples)))\n",
        "print(\"Number of synthetic samples in test set is \" + str(len(synth_samples)))"
      ],
      "metadata": {
        "colab": {
          "base_uri": "https://localhost:8080/"
        },
        "id": "w9D3VynwGET4",
        "outputId": "7d852b9f-5567-466f-f39b-a1f12debfae0"
      },
      "id": "w9D3VynwGET4",
      "execution_count": 8,
      "outputs": [
        {
          "output_type": "stream",
          "name": "stdout",
          "text": [
            "Number of real samples in test set is 100000\n",
            "Number of synthetic samples in test set is 100000\n"
          ]
        }
      ]
    },
    {
      "cell_type": "code",
      "source": [
        "#Getting the value counts magic features for each feature but only using the\n",
        "  #train data and the real samples from test set"
      ],
      "metadata": {
        "id": "b0LR3gm-GXWz"
      },
      "id": "b0LR3gm-GXWz",
      "execution_count": 9,
      "outputs": []
    },
    {
      "cell_type": "code",
      "execution_count": 10,
      "id": "27f5be48",
      "metadata": {
        "id": "27f5be48"
      },
      "outputs": [],
      "source": [
        "features = [col for col in df_train.columns if col.startswith('var')]\n",
        "df_all = pd.concat([df_train, df_test.iloc[real_samples]])\n",
        "for feature in features:\n",
        "    temp = df_all[feature].value_counts(dropna=True)\n",
        "    df_all[feature + 'vc'] = df_all[feature].map(temp).map(\n",
        "                                  lambda x: min(10, x)).astype(np.uint8)\n",
        "    df_all[feature + 'sum'] = ((df_all[feature]) * df_all[feature + 'vc'] \\\n",
        "                                  .map(lambda x: int(x > 1))).astype(np.float32)\n",
        "    df_all[feature + 'sum2'] = ((df_all[feature]) * df_all[feature + 'vc'] \\\n",
        "                                 .map(lambda x: int(x > 2))).astype(np.float32)\n",
        "    df_all[feature + 'sum3'] = ((df_all[feature]) * df_all[feature + 'vc'] \\\n",
        "                                 .map(lambda x: int(x > 4))).astype(np.float32)\n",
        "    df_all[feature+\"_var\"] = df_all.groupby([feature])[feature].transform(\"var\")\n",
        "    df_all[feature + \"plus_\"] = df_all[feature] + df_all[feature + \"_var\"]\n",
        "    df_all.drop([feature + \"_var\"], axis = 1, inplace = True)\n",
        "df_train = df_all.iloc[:df_train.shape[0]]\n",
        "df_test_real = df_all.iloc[df_train.shape[0]:]"
      ]
    },
    {
      "cell_type": "code",
      "execution_count": 11,
      "id": "10c88ad0",
      "metadata": {
        "colab": {
          "base_uri": "https://localhost:8080/"
        },
        "id": "10c88ad0",
        "outputId": "609488d5-5168-47b5-d832-d3e903758ebd"
      },
      "outputs": [
        {
          "output_type": "stream",
          "name": "stdout",
          "text": [
            "Training set shape after creating magic features: (200000, 1202)\n",
            "Test set shape after creating magic features: (100000, 1202)\n"
          ]
        }
      ],
      "source": [
        "print(\"Training set shape after creating magic features: \" + df_train.shape)\n",
        "print(\"Test set shape after creating magic features: \" + df_test_real.shape)"
      ]
    },
    {
      "cell_type": "code",
      "execution_count": 12,
      "id": "RFiWqb-CJv1s",
      "metadata": {
        "id": "RFiWqb-CJv1s"
      },
      "outputs": [],
      "source": [
        "train_y = df_train[\"target\"]\n",
        "df_train.drop([\"target\"], axis = 1, inplace = True)"
      ]
    },
    {
      "cell_type": "code",
      "source": [
        "folds = StratifiedKFold(n_splits=5, shuffle=True, random_state=4242)"
      ],
      "metadata": {
        "id": "ce71LHXWUnoQ"
      },
      "id": "ce71LHXWUnoQ",
      "execution_count": 13,
      "outputs": []
    },
    {
      "cell_type": "code",
      "source": [
        "#Parameters tuned from hyperparameter tuning files"
      ],
      "metadata": {
        "id": "klCSppF1HbTn"
      },
      "id": "klCSppF1HbTn",
      "execution_count": 14,
      "outputs": []
    },
    {
      "cell_type": "code",
      "source": [
        "param = {\n",
        "    'learning_rate': 0.07293475148427585, 'max_bin': 100, 'max_depth': 48, \n",
        "    'num_leaves': 2, 'min_data_in_leaf': 144, 'reg_alpha': 0.0001,\n",
        "    'subsample': 0.38127455432520496,  \n",
        "    'reg_lambda': 0.0001, 'min_split_gain': 0.001,\n",
        "    'min_sum_hessian_in_leaf': 1.0, 'boost_from_average': True, \n",
        "    'is_unbalance': 'true', 'boosting_type': 'gbdt', 'n_estimators': 5000, \n",
        "    'num_class': 2, 'objective': 'multiclass', 'metric': 'multi_logloss', \n",
        "    'device': 'cpu', 'n_jobs': -1, 'verbose': -1\n",
        "}"
      ],
      "metadata": {
        "id": "zwm_wOxDVfja"
      },
      "id": "zwm_wOxDVfja",
      "execution_count": 15,
      "outputs": []
    },
    {
      "cell_type": "code",
      "source": [
        "real_test = df_test_real.loc[real_samples, :]"
      ],
      "metadata": {
        "id": "dPYUYWw2p7t4"
      },
      "id": "dPYUYWw2p7t4",
      "execution_count": 16,
      "outputs": []
    },
    {
      "cell_type": "code",
      "source": [
        "#Training over folds and features and using an average predictions over them \n",
        "predictions = np.zeros(len(real_test))\n",
        "k = 5\n",
        "folds = StratifiedKFold(n_splits=k, shuffle=True, random_state=42)\n",
        "for fold_, (trn_, val_) in enumerate(folds.split(train_y, train_y)):\n",
        "    for feature in features:\n",
        "      X_tr = lgb.Dataset(\n",
        "          df_train[[feature, feature + \"plus_\", feature + \"vc\", feature + \"sum\", \n",
        "                      feature + \"sum2\", feature + \"sum3\"]].iloc[trn_], \n",
        "                    train_y.iloc[trn_])\n",
        "      X_va = lgb.Dataset(\n",
        "          df_train[[feature, feature + \"plus_\", feature + \"vc\", feature + \"sum\", \n",
        "                      feature + \"sum2\", feature + \"sum3\"]].iloc[val_], \n",
        "                    train_y.iloc[val_])\n",
        "      model = lgb.train(param, X_tr, valid_sets=X_va, num_boost_round=1000, \n",
        "                          verbose_eval=None, early_stopping_rounds=10)\n",
        "      #Creating predictions as an average over all features and folds\n",
        "      predictions += model.predict(\n",
        "          real_test[[feature, feature+\"plus_\", feature + \"vc\", feature + \"sum\", \n",
        "              feature + \"sum2\", feature + \"sum3\"]])[:, 1] / (len(features) * k)"
      ],
      "metadata": {
        "id": "ec-II48qU05f"
      },
      "id": "ec-II48qU05f",
      "execution_count": 21,
      "outputs": []
    },
    {
      "cell_type": "code",
      "source": [
        "#Creating a submission file\n",
        "real_samples = [\"test_\" + str(x) for x in real_samples]\n",
        "subreal = pd.DataFrame({\"ID_code\": real_samples})\n",
        "subreal['target']=predictions\n",
        "sub = pd.DataFrame({\"ID_code\": df_test.ID_code.values})\n",
        "finalsub = sub.set_index('ID_code').join(subreal.set_index('ID_code')).reset_index()\n",
        "finalsub.fillna(0,inplace=True)\n",
        "finalsub.to_csv(\"submission.csv\", index=False)"
      ],
      "metadata": {
        "id": "rTDufAjLlrS9"
      },
      "id": "rTDufAjLlrS9",
      "execution_count": 18,
      "outputs": []
    },
    {
      "cell_type": "code",
      "source": [
        ""
      ],
      "metadata": {
        "id": "GwT8h5QHpt7I"
      },
      "id": "GwT8h5QHpt7I",
      "execution_count": 19,
      "outputs": []
    }
  ],
  "metadata": {
    "colab": {
      "collapsed_sections": [],
      "name": "Pred_Project_EDA_(1).ipynb",
      "provenance": []
    },
    "hide_input": false,
    "kernelspec": {
      "display_name": "Python 3 (ipykernel)",
      "language": "python",
      "name": "python3"
    },
    "language_info": {
      "codemirror_mode": {
        "name": "ipython",
        "version": 3
      },
      "file_extension": ".py",
      "mimetype": "text/x-python",
      "name": "python",
      "nbconvert_exporter": "python",
      "pygments_lexer": "ipython3",
      "version": "3.9.7"
    }
  },
  "nbformat": 4,
  "nbformat_minor": 5
}
